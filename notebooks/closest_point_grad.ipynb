{
 "cells": [
  {
   "cell_type": "code",
   "execution_count": 4,
   "metadata": {},
   "outputs": [],
   "source": [
    "import numpy\n",
    "import sympy as sp\n",
    "from sympy import *\n",
    "import sympy as sp\n",
    "from sympy.matrices import *\n",
    "\n",
    "from generate_cpp_code import *\n",
    "from utils import norm, jacobian"
   ]
  },
  {
   "cell_type": "code",
   "execution_count": null,
   "metadata": {},
   "outputs": [],
   "source": [
    "# Function(\"F\")(MatrixSymbol(\"A\", 2, 2)).diff()"
   ]
  },
  {
   "cell_type": "code",
   "execution_count": null,
   "metadata": {},
   "outputs": [],
   "source": [
    "generators = []"
   ]
  },
  {
   "cell_type": "markdown",
   "metadata": {},
   "source": [
    "## Point-Edge"
   ]
  },
  {
   "cell_type": "code",
   "execution_count": null,
   "metadata": {},
   "outputs": [],
   "source": [
    "for dim in [2, 3]:\n",
    "    p = numpy.array(symbols(\" \".join(\"p_x p_y p_z\".split()[:dim]))).reshape(dim, 1)\n",
    "    e0 = numpy.array(symbols(\" \".join(\"e0_x e0_y e0_z\".split()[:dim]))).reshape(dim, 1)\n",
    "    e1 = numpy.array(symbols(\" \".join(\"e1_x e1_y e1_z\".split()[:dim]))).reshape(dim, 1)\n",
    "    x = numpy.vstack([p, e0, e1]).reshape(-1)\n",
    "        \n",
    "    e = e1 - e0\n",
    "    c = ((p - e0).T @ e) / (e.T @ e)\n",
    "\n",
    "    generators.append(CXXJacobianGenerator(c, x, f\"point_edge_closest_point_{dim}D_jacobian\"))"
   ]
  },
  {
   "cell_type": "code",
   "execution_count": null,
   "metadata": {},
   "outputs": [],
   "source": [
    "generatorsX = []\n",
    "generatorsX.append(CXXHessianGenerator(c[0, 0], x, \"point_edge_closest_point_3D_hessian\"))\n",
    "\n",
    "generate_hpp_file(generatorsX, \"closest_point_hessian.hpp\")\n",
    "generate_cpp_file(generatorsX, \"closest_point_hessian.cpp\")"
   ]
  },
  {
   "cell_type": "markdown",
   "metadata": {},
   "source": [
    "## Edge-Edge"
   ]
  },
  {
   "cell_type": "code",
   "execution_count": null,
   "metadata": {},
   "outputs": [],
   "source": [
    "ea0 = numpy.array(symbols(\"ea0_x ea0_y ea0_z\"))\n",
    "ea1 = numpy.array(symbols(\"ea1_x ea1_y ea1_z\"))\n",
    "eb0 = numpy.array(symbols(\"eb0_x eb0_y eb0_z\"))\n",
    "eb1 = numpy.array(symbols(\"eb1_x eb1_y eb1_z\"))\n",
    "x = numpy.vstack([ea0, ea1, eb0, eb1]).reshape(-1)"
   ]
  },
  {
   "cell_type": "code",
   "execution_count": null,
   "metadata": {},
   "outputs": [],
   "source": [
    "eb_to_ea = ea0 - eb0\n",
    "ea = ea1 - ea0\n",
    "eb = eb1 - eb0\n",
    "\n",
    "coefMtr = numpy.array([\n",
    "    [ea.dot(ea), -eb.dot(ea)],\n",
    "    [-eb.dot(ea), eb.dot(eb)]\n",
    "])\n",
    "\n",
    "rhs = numpy.array([[-eb_to_ea.dot(ea)], [eb_to_ea.dot(eb)]])\n",
    "c = Matrix(coefMtr).inv() @ rhs"
   ]
  },
  {
   "cell_type": "code",
   "execution_count": null,
   "metadata": {},
   "outputs": [],
   "source": [
    "generators.append(CXXJacobianGenerator(c, x, \"edge_edge_closest_point_jacobian\"))"
   ]
  },
  {
   "cell_type": "code",
<<<<<<< HEAD
   "execution_count": 5,
   "metadata": {},
   "outputs": [],
   "source": [
    "def project(a, b):\n",
    "    y = a - a.dot(b) * b\n",
    "    return y / sp.sqrt(y.dot(y))\n",
    "\n",
    "d = numpy.array(symbols(\"d_x d_y d_z\"))\n",
    "f0 = numpy.array(symbols(\"f0_x f0_y f0_z\"))\n",
    "f1 = numpy.array(symbols(\"f1_x f1_y f1_z\"))\n",
    "e0 = numpy.array(symbols(\"e0_x e0_y e0_z\"))\n",
    "e1 = numpy.array(symbols(\"e1_x e1_y e1_z\"))\n",
    "x = numpy.vstack([d, e0, e1, f0, f1]).reshape(-1)\n",
    "\n",
    "en = (e0 - e1) / sp.sqrt((e1 - e0).dot(e1 - e0))\n",
    "dn = project(d, en)\n",
    "t0 = project(f0 - e0, en)\n",
    "t1 = project(f1 - e0, en)\n",
    "y = np.cross(dn - t0, dn - t1).dot(en)\n",
    "\n",
    "generatorsX = []\n",
    "generatorsX.append(CXXGradientGenerator(y, x, \"edge_normal_term_gradient\"))\n",
    "generatorsX.append(CXXHessianGenerator(y, x, \"edge_normal_term_hessian\"))\n",
    "\n",
    "generate_hpp_file(generatorsX, \"edge_normal_term.hpp\")\n",
    "generate_cpp_file(generatorsX, \"edge_normal_term.cpp\")"
=======
   "execution_count": null,
   "metadata": {},
   "outputs": [],
   "source": [
    "generatorsX = []\n",
    "for i in range(len(c)):\n",
    "    generatorsX.append(CXXHessianGenerator(c[i], x, \"edge_edge_closest_point_hessian\"))\n",
    "\n",
    "generate_hpp_file(generatorsX, \"closest_point_hessian.hpp\")\n",
    "generate_cpp_file(generatorsX, \"closest_point_hessian.cpp\")"
>>>>>>> main
   ]
  },
  {
   "cell_type": "markdown",
   "metadata": {},
   "source": [
    "## Point-Triangle"
   ]
  },
  {
   "cell_type": "code",
   "execution_count": null,
   "metadata": {},
   "outputs": [],
   "source": [
    "t0 = numpy.array(symbols(\"t0_x t0_y t0_z\")).reshape(3, 1)\n",
    "t1 = numpy.array(symbols(\"t1_x t1_y t1_z\")).reshape(3, 1)\n",
    "t2 = numpy.array(symbols(\"t2_x t2_y t2_z\")).reshape(3, 1)\n",
    "x = numpy.vstack([t0, t1, t2]).reshape(-1)\n",
    "\n",
    "# derivatives of face normal\n",
    "normal = np.cross((t1 - t0).T, (t2 - t0).T)\n",
    "norm = np.sum([x ** 2 for x in normal])\n",
    "display(norm)\n",
    "\n",
    "generatorsX = []\n",
    "generatorsX.append(CXXGradientGenerator(norm, x, \"face_normal_squared_norm_gradient\"))\n",
    "generatorsX.append(CXXHessianGenerator(norm, x, \"face_normal_squared_norm_hessian\"))\n",
    "\n",
    "generate_hpp_file(generatorsX, \"closest_point_hessian.hpp\")\n",
    "generate_cpp_file(generatorsX, \"closest_point_hessian.cpp\")"
   ]
  },
  {
   "cell_type": "code",
   "execution_count": null,
   "metadata": {},
   "outputs": [],
   "source": [
    "p = numpy.array(symbols(\"p_x p_y p_z\")).reshape(3, 1)\n",
    "t0 = numpy.array(symbols(\"t0_x t0_y t0_z\")).reshape(3, 1)\n",
    "t1 = numpy.array(symbols(\"t1_x t1_y t1_z\")).reshape(3, 1)\n",
    "t2 = numpy.array(symbols(\"t2_x t2_y t2_z\")).reshape(3, 1)\n",
    "x = numpy.vstack([p, t0, t1, t2]).reshape(-1)\n",
    "\n",
    "basis = numpy.empty((2, 3), dtype=object)\n",
    "basis[0] = (t1 - t0).T\n",
    "basis[1] = (t2 - t0).T\n",
    "A = basis @ basis.T\n",
    "b = basis @ (p - t0)\n",
    "display(A)\n",
    "display(b)\n",
    "c = Matrix(A).inv() @ b\n",
    "display(Matrix(c))\n",
    "generatorsX = []\n",
    "for i in range(2):\n",
    "    generatorsX.append(CXXHessianGenerator(c[i], x, \"triangle_closest_point_hessian_\"+str(i)))\n",
    "\n",
    "generate_hpp_file(generatorsX, \"closest_point_hessian.hpp\")\n",
    "generate_cpp_file(generatorsX, \"closest_point_hessian.cpp\")"
   ]
  },
  {
   "cell_type": "code",
   "execution_count": null,
   "metadata": {},
   "outputs": [],
   "source": [
    "p1 = numpy.array(symbols(\"p1_x p1_y p1_z\")).reshape(3, 1)\n",
    "p2 = numpy.array(symbols(\"p2_x p2_y p2_z\")).reshape(3, 1)\n",
    "t0 = numpy.array(symbols(\"t0_x t0_y t0_z\")).reshape(3, 1)\n",
    "t1 = numpy.array(symbols(\"t1_x t1_y t1_z\")).reshape(3, 1)\n",
    "t2 = numpy.array(symbols(\"t2_x t2_y t2_z\")).reshape(3, 1)\n",
    "x = numpy.vstack([t0, t1, t2, p1, p2]).reshape(-1)\n",
    "\n",
    "normal = np.cross((t1 - t0).T, (t2 - t0).T).T\n",
    "g = normal.T @ (p2 - t0)\n",
    "g = g[0, 0] / sp.sqrt(np.sum([m **2 for m in normal]) * np.sum([m **2 for m in (p2 - p1)]))\n",
    "display(g)\n",
    "\n",
    "generatorsX = []\n",
    "generatorsX.append(CXXGradientGenerator(g, x, \"face_term_aux_gradient\"))\n",
    "generatorsX.append(CXXHessianGenerator(g, x, \"face_term_aux_hessian\"))\n",
    "\n",
    "generate_hpp_file(generatorsX, \"closest_point_hessian.hpp\")\n",
    "generate_cpp_file(generatorsX, \"closest_point_hessian.cpp\")"
   ]
  },
  {
   "cell_type": "code",
   "execution_count": 2,
   "metadata": {},
   "outputs": [
    {
     "data": {
      "text/latex": [
       "$\\displaystyle \\frac{\\left(p_{x} - t_{0 x}\\right) \\left(\\left(- t_{0 y} + t_{1 y}\\right) \\left(- t_{0 z} + t_{2 z}\\right) - \\left(- t_{0 y} + t_{2 y}\\right) \\left(- t_{0 z} + t_{1 z}\\right)\\right) + \\left(p_{y} - t_{0 y}\\right) \\left(- \\left(- t_{0 x} + t_{1 x}\\right) \\left(- t_{0 z} + t_{2 z}\\right) + \\left(- t_{0 x} + t_{2 x}\\right) \\left(- t_{0 z} + t_{1 z}\\right)\\right) + \\left(p_{z} - t_{0 z}\\right) \\left(\\left(- t_{0 x} + t_{1 x}\\right) \\left(- t_{0 y} + t_{2 y}\\right) - \\left(- t_{0 x} + t_{2 x}\\right) \\left(- t_{0 y} + t_{1 y}\\right)\\right)}{\\sqrt{d \\left(\\left(\\left(- t_{0 x} + t_{1 x}\\right) \\left(- t_{0 y} + t_{2 y}\\right) - \\left(- t_{0 x} + t_{2 x}\\right) \\left(- t_{0 y} + t_{1 y}\\right)\\right)^{2} + \\left(- \\left(- t_{0 x} + t_{1 x}\\right) \\left(- t_{0 z} + t_{2 z}\\right) + \\left(- t_{0 x} + t_{2 x}\\right) \\left(- t_{0 z} + t_{1 z}\\right)\\right)^{2} + \\left(\\left(- t_{0 y} + t_{1 y}\\right) \\left(- t_{0 z} + t_{2 z}\\right) - \\left(- t_{0 y} + t_{2 y}\\right) \\left(- t_{0 z} + t_{1 z}\\right)\\right)^{2}\\right)}}$"
      ],
      "text/plain": [
       "((p_x - t0_x)*((-t0_y + t1_y)*(-t0_z + t2_z) - (-t0_y + t2_y)*(-t0_z + t1_z)) + (p_y - t0_y)*(-(-t0_x + t1_x)*(-t0_z + t2_z) + (-t0_x + t2_x)*(-t0_z + t1_z)) + (p_z - t0_z)*((-t0_x + t1_x)*(-t0_y + t2_y) - (-t0_x + t2_x)*(-t0_y + t1_y)))/sqrt(d*(((-t0_x + t1_x)*(-t0_y + t2_y) - (-t0_x + t2_x)*(-t0_y + t1_y))**2 + (-(-t0_x + t1_x)*(-t0_z + t2_z) + (-t0_x + t2_x)*(-t0_z + t1_z))**2 + ((-t0_y + t1_y)*(-t0_z + t2_z) - (-t0_y + t2_y)*(-t0_z + t1_z))**2))"
      ]
     },
     "metadata": {},
     "output_type": "display_data"
    }
   ],
   "source": [
    "p = numpy.array(symbols(\"p_x p_y p_z\")).reshape(3, 1)\n",
    "d = numpy.array(symbols(\"d\")).reshape(1, 1)\n",
    "t0 = numpy.array(symbols(\"t0_x t0_y t0_z\")).reshape(3, 1)\n",
    "t1 = numpy.array(symbols(\"t1_x t1_y t1_z\")).reshape(3, 1)\n",
    "t2 = numpy.array(symbols(\"t2_x t2_y t2_z\")).reshape(3, 1)\n",
    "x = numpy.vstack([t0, t1, t2, p, d]).reshape(-1)\n",
    "\n",
    "normal = np.cross((t1 - t0).T, (t2 - t0).T).T\n",
    "g = normal.T @ (p - t0)\n",
    "g = g[0, 0] / sp.sqrt(np.sum([m **2 for m in normal]) * d[0, 0])\n",
    "display(g)\n",
    "\n",
    "generatorsX = []\n",
    "generatorsX.append(CXXGradientGenerator(g, x, \"face_term_aux_fast_gradient\"))\n",
    "generatorsX.append(CXXHessianGenerator(g, x, \"face_term_aux_fast_hessian\"))\n",
    "\n",
    "generate_hpp_file(generatorsX, \"closest_point_hessian.hpp\")\n",
    "generate_cpp_file(generatorsX, \"closest_point_hessian.cpp\")"
   ]
  },
  {
   "cell_type": "code",
   "execution_count": null,
   "metadata": {},
   "outputs": [],
   "source": [
    "p = numpy.array(symbols(\"p_x p_y p_z\")).reshape(3, 1)\n",
    "t0 = numpy.array(symbols(\"t0_x t0_y t0_z\")).reshape(3, 1)\n",
    "t1 = numpy.array(symbols(\"t1_x t1_y t1_z\")).reshape(3, 1)\n",
    "t2 = numpy.array(symbols(\"t2_x t2_y t2_z\")).reshape(3, 1)\n",
    "x = numpy.vstack([p, t0, t1, t2]).reshape(-1)\n",
    "\n",
    "basis = numpy.empty((2, 3), dtype=object)\n",
    "basis[0] = (t1 - t0).T\n",
    "basis[1] = (t2 - t0).T\n",
    "A = basis @ basis.T\n",
    "b = basis @ (p - t0)\n",
    "display(Matrix(A))\n",
    "display(Matrix(b))"
   ]
  },
  {
   "cell_type": "code",
   "execution_count": null,
   "metadata": {},
   "outputs": [],
   "source": [
    "# f.write(gen_jac_code(numpy.array(Matrix(A).diff(x)).reshape(24, 2), x, \n",
    "#                      \"point_triangle_LSQ_matrix_jacobian\"))\n",
    "# f.write(gen_jac_code(numpy.array(Matrix(b).diff(x)).reshape(12, 2).T, x, \n",
    "#                      \"point_triangle_LSQ_RHS_jacobian\"))"
   ]
  },
  {
   "cell_type": "code",
   "execution_count": null,
   "metadata": {},
   "outputs": [],
   "source": [
    "c = Matrix(A).inv() @ b"
   ]
  },
  {
   "cell_type": "code",
   "execution_count": null,
   "metadata": {},
   "outputs": [],
   "source": [
    "generators.append(CXXJacobianGenerator(c, x, \"point_triangle_closest_point_jacobian\"))"
   ]
  },
  {
   "attachments": {},
   "cell_type": "markdown",
   "metadata": {},
   "source": [
    "# Generate Code"
   ]
  },
  {
   "cell_type": "code",
   "execution_count": null,
   "metadata": {},
   "outputs": [],
   "source": [
    "generate_hpp_file(generators, \"closest_point_grad.hpp\")\n",
    "generate_cpp_file(generators, \"closest_point_grad.cpp\")"
   ]
  },
  {
   "cell_type": "code",
   "execution_count": null,
   "metadata": {},
   "outputs": [],
   "source": []
  }
 ],
 "metadata": {
  "kernelspec": {
   "display_name": "Python 3",
   "language": "python",
   "name": "python3"
  },
  "language_info": {
   "codemirror_mode": {
    "name": "ipython",
    "version": 3
   },
   "file_extension": ".py",
   "mimetype": "text/x-python",
   "name": "python",
   "nbconvert_exporter": "python",
   "pygments_lexer": "ipython3",
   "version": "3.11.5"
  },
  "orig_nbformat": 4,
  "vscode": {
   "interpreter": {
    "hash": "5c7b89af1651d0b8571dde13640ecdccf7d5a6204171d6ab33e7c296e100e08a"
   }
  }
 },
 "nbformat": 4,
 "nbformat_minor": 2
}
