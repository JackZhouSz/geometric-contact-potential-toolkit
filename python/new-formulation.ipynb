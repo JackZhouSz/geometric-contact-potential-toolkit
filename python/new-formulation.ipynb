{
 "cells": [
  {
   "cell_type": "code",
   "execution_count": null,
   "metadata": {},
   "outputs": [],
   "source": [
    "import numpy\n",
    "import plotly.figure_factory as ff\n",
    "import plotly.graph_objects as go\n",
    "import meshio\n",
    "\n",
    "import sys\n",
    "import pathlib\n",
    "sys.path.append(str(pathlib.Path(\"\").resolve().parent / \"build\" / \"release\" / \"python\"))  # noqa\n",
    "\n",
    "from ipctk import *"
   ]
  },
  {
   "cell_type": "code",
   "execution_count": null,
   "metadata": {},
   "outputs": [],
   "source": [
    "e0 = numpy.array([-1, -1], dtype=float)\n",
    "e1 = numpy.array([0, 0], dtype=float)\n",
    "uvs = numpy.linspace(0, 1, 200)\n",
    "p = numpy.array([-0.5, -0.55])\n",
    "\n",
    "potentials = numpy.zeros(len(uvs))\n",
    "for i, uv in enumerate(uvs):\n",
    "    potentials[i] = smooth_point_edge_potential_pointwise(p, e0, e1, uv, 0.5, numpy.pi/2)\n",
    "\n",
    "fig = go.Figure(data=[\n",
    "    go.Scatter(x=uvs, y=potentials)\n",
    "    ], layout=go.Layout(width=400, height=400))\n",
    "fig.show()"
   ]
  },
  {
   "cell_type": "code",
   "execution_count": null,
   "metadata": {},
   "outputs": [],
   "source": [
    "e0 = numpy.array([-1, -1], dtype=float)\n",
    "e1 = numpy.array([0, 0], dtype=float)\n",
    "xs = numpy.linspace(-1.2, 0.2, 200)\n",
    "ys = numpy.linspace(-1.2, 0.2, 200)\n",
    "\n",
    "e2 = numpy.array([1, -1], dtype=float)\n",
    "distances = numpy.empty((xs.size, ys.size))\n",
    "for i, x in enumerate(xs):\n",
    "    for j, y in enumerate(ys):\n",
    "        distances[j, i] = smooth_point_edge_potential(numpy.array([x, y]), e0, e1, 0.2, numpy.pi/2)\n",
    "\n",
    "fig = go.Figure(data=[\n",
    "    go.Scatter(x=[e0[0], e1[0]], y=[e0[1], e1[1]]),\n",
    "    # go.Scatter(x=[e2[0], e1[0]], y=[e2[1], e1[1]]),\n",
    "    go.Contour(z=numpy.sqrt(distances), x=xs, y=ys, colorscale='Hot')\n",
    "], layout=go.Layout(width=400, height=400))\n",
    "fig.show()"
   ]
  }
 ],
 "metadata": {
  "language_info": {
   "name": "python"
  }
 },
 "nbformat": 4,
 "nbformat_minor": 2
}
